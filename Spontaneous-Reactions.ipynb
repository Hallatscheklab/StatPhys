{
 "cells": [
  {
   "cell_type": "markdown",
   "metadata": {
    "editable": true,
    "slideshow": {
     "slide_type": ""
    },
    "tags": []
   },
   "source": [
    "### Spontaneous Reactions"
   ]
  },
  {
   "cell_type": "markdown",
   "metadata": {},
   "source": [
    "A change in the macrostate of the system is said to happen spontaneously if we do not need to apply a (thermodynamic) driving force to induce the change. It is then clear that, in large systems, spontaneous reactions cannot increase the entropy of the world, $0\\leq\\Delta S_{\\text{tot}},$ which is one formulation fo the second law. \n",
    "\n",
    "The total entropy change can be decomposed into  entropy changes $\\Delta S_S$ and $\\Delta S_R$ of system and reservoir, respectively. Assuming that the generalized coordinates of the reservoir don't change, we can Taylor expand the reservoir entropy change $\\Delta S_R=\\Delta E_R/T_R$ in terms of the energy change $\\Delta E_R$ of the reservoir (just as we did to derive the Boltzmann factor). In terms of the the *heat* $Q\\equiv-\\Delta E_R$ added to the system, we thus have\n",
    "\n",
    "$$0\\leq\\Delta S_{\\text{tot}}=\\Delta S_S+\\Delta S_R=\\Delta S_S-\\frac{Q}{T_R}$$"
   ]
  },
  {
   "cell_type": "markdown",
   "metadata": {},
   "source": [
    "and obtain the **Clausius inequality**\n",
    "\n",
    "$$\\boxed{\\Delta S_S\\geq\\frac{Q}{T_R}}\\;,$$"
   ]
  },
  {
   "cell_type": "markdown",
   "metadata": {},
   "source": [
    "where the greater sign applies to *spontaneous* processes and the equal sign applies to *reversible* processes, which are the only ones that occur in equilibrium."
   ]
  },
  {
   "cell_type": "markdown",
   "metadata": {},
   "source": [
    "Next, we invoke the first law of thermodynamics, to express the change in internal energy of the system as\n",
    "\n",
    "$$\\Delta E_s=Q+W $$\n",
    "\n",
    "in terms of the heat $Q$ and the $W$ is the work done *on* the system through some external force.\n",
    "\n",
    "Also a footnote about $U$: In the context of spontaneous processes, we define it as an ensemble average of the energy of the system. That ensemble average can have a time dependence if the system starts out of equilibrium and is allowed to relax. Example: Consider a bottle of initially cold water that we through into a hot tub. The temperature of the bottle will increase over time until the temperature of the bottle matches the temperature of the hot tub. The energy $E_S(t)$  of the bottle will generally increase towards the peak energy (from above), but the time series will show fluctuations: If we repeat the entire experiment, $E_S(t)$ will look slightly different because  the fluctuations are different. But the ensemble average $U(t)$ over (infinitely) many realizations of the non-equilibrium process will be a deterministic time-dependent function."
   ]
  },
  {
   "cell_type": "markdown",
   "metadata": {},
   "source": [
    "Now, we consider *isothermal* reactions in which the temperature is held constant, i.e. $\\Delta T=0$. Assuming no work done, $W=0$, the Clausius inequality implies \n",
    "\n",
    "$$\\Delta E_S-T_R\\Delta S_S\\leq 0.$$\n",
    "\n",
    "Note that the RHS is equal to the change $\\Delta F$ of the free energy (only in this isothermal case!). Thus, in a spontaneous process, the change in free energy is never positive,\n",
    "\n",
    "$$\\boxed{\\Delta F\\leq0\\qquad\\text{(isothermal processes)}.}$$"
   ]
  },
  {
   "cell_type": "markdown",
   "metadata": {},
   "source": [
    "If the system does work, the Clausius inequality gives us a bound on how much work we can get out of a process that involves change $\\Delta F<0$ in  free energy, namely\n",
    "\n",
    "$$\\boxed{W\\geq\\Delta F\\qquad\\text{(isothermal processes)}.}$$"
   ]
  },
  {
   "cell_type": "markdown",
   "metadata": {},
   "source": [
    "<div class=\"alert alert-warning\">\n",
    "Summary:  \n",
    "    \n",
    "- Spontaneous reactions reduce the free energy $F$.\n",
    "- In equilibrium, the free energy is minimal.\n",
    "- The work done on a system during a spontaneous process is typically larger than the change in free energy\n",
    "- unless a process is reversible, in which case the Work just equals the change in free energy.\n",
    "</div>"
   ]
  },
  {
   "cell_type": "markdown",
   "metadata": {},
   "source": [
    "The above discussion also implies relationships between differentials for general reversible processes (not only isothermal ones):\n",
    "\n",
    "$$ dF=dE-T dS -S dT=+dW -S dT$$\n",
    "\n",
    "or\n",
    "\n",
    "$$ dU=T dS+ dW$$"
   ]
  },
  {
   "cell_type": "markdown",
   "metadata": {},
   "source": [
    "<div class=\"alert alert-info\">\n",
    "    \n",
    "**Example: ATP consumption**\n",
    "Most cellular processes are powered by \n",
    "$$ATP\\rightarrow ADP + P_i$$\n",
    "\n",
    "</div>"
   ]
  },
  {
   "cell_type": "code",
   "execution_count": null,
   "metadata": {},
   "outputs": [],
   "source": []
  }
 ],
 "metadata": {
  "colab": {
   "include_colab_link": true,
   "provenance": []
  },
  "kernelspec": {
   "display_name": "Python 3 (ipykernel)",
   "language": "python",
   "name": "python3"
  },
  "language_info": {
   "codemirror_mode": {
    "name": "ipython",
    "version": 3
   },
   "file_extension": ".py",
   "mimetype": "text/x-python",
   "name": "python",
   "nbconvert_exporter": "python",
   "pygments_lexer": "ipython3",
   "version": "3.10.13"
  }
 },
 "nbformat": 4,
 "nbformat_minor": 4
}

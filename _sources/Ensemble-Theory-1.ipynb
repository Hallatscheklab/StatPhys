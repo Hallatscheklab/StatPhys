{
 "cells": [
  {
   "cell_type": "markdown",
   "metadata": {
    "id": "F3W6cUBQ0S-E"
   },
   "source": [
    "# Whirlwind recap of (equilibrium) statistical physics\n",
    "\n"
   ]
  },
  {
   "cell_type": "markdown",
   "metadata": {
    "id": "Yw2MINxWIF3f"
   },
   "source": [
    "**Why do we need statistical physics?**\n",
    "\n",
    "* A typical property of soft matter systems is the importance of thermal fluctuations for structure and dynamics. “Soft” means often that the relevant energy scales are in order or smaller than $k_B T$.\n",
    "\n",
    "* Rather than adopting well defined internal energy minima, the equilibrium states comprise a multitude of microstates, where fluctuations cause deviations from the internal energy minima.\n",
    "\n",
    "* The description of this thermal equilibrium is the focus of equilibrium statistical physics, which we review in the first 2-3 lectures\n",
    "\n",
    "* Note that living systems consume energy to drive irreversible processes and stay away from thermal equilibrium. Nevertheless, they often show seemingly random fluctuations that can even dominate their behavior. It is active topic research how to extend statistical physics to describe such active systems far from equilibrium."
   ]
  },
  {
   "cell_type": "markdown",
   "metadata": {
    "id": "DGMU9AklLj-G"
   },
   "source": [
    "### Closed systems -- microcanonical ensemble"
   ]
  },
  {
   "cell_type": "markdown",
   "metadata": {
    "id": "HMKnKeDn2EVq"
   },
   "source": [
    "\n",
    "**Basic principle of statistical mechanics:** In an *isolated* system, all *allowed* *microstates* are equally likely.\n",
    "\n",
    "* An \"isolated\" system does not transfer energy, matter, volume or other conserved quantities outside its boundaries. A \"closed\" system can exchange energy, but not matter. \"Open\" systems typically exchange energy, matter and volume. Example: Biological systems (cells, organisms).\n",
    "* In classical physics (=all we care about in this course), a \"microstate\" is a specific microscopic configuration of all particles of the system.\n",
    "* All \"allowed\" microstates have the same energy, volume and number (and type) of particles.\n"
   ]
  },
  {
   "cell_type": "markdown",
   "metadata": {
    "id": "iLSWV3dYcbnF"
   },
   "source": [
    "<img src=\"https://github.com/Hallatscheklab/SoftMatter22-23/blob/main/source/notebooks/L1/img/trail-of-bright-light-in-box-460688633-5966b3605f9b5816183316bb.webp?raw=1\" alt=\"systems\" name=\"systems\" class=\"bg-primary mb-1\" width=\"500px\">"
   ]
  },
  {
   "cell_type": "markdown",
   "metadata": {
    "id": "8dl5NfUI57_K"
   },
   "source": [
    "Let's define $\\Omega(E,V,N)$ to be the total number of microstates {$\\nu$} with $E_\\nu=E$, $V_\\nu=V$ and $N_\\nu=N$.\n",
    "\n",
    "Then, based on our \"Basic Principle\", we can say that the probability of observing microstate $\\nu$ is given by $P(\\nu)=\\Omega(E,V,N)^{-1}$.\n",
    "\n",
    "N.B.: One could imagine measuring $P(\\nu)$ in two ways: 1. Follow a given system for a very long time and determine the fraction of the total time the system is in microstate $\\nu$. 2. Consider a very large ensemble of identical systems and determine the fraction of replicates that are in state $\\nu$. We will usually assume that both types of measurements give the same results in the thermodynamic limit (long times and large ensembles). This is called the *ergodicity* assumption. The breaking of ergodicity is topic of active research. Ergodicity is broken in certain models of glasses it is broken, reflecting the long relaxation times in these systems."
   ]
  },
  {
   "cell_type": "markdown",
   "metadata": {
    "id": "Oa8wy2MzbAGP"
   },
   "source": [
    "### Energy exchange -- canonical ensemble\n",
    "\n",
    "Most soft matter systems are closed but not isolated - they trade energy and volume with the environment (a.k.a. *bath*, *sorroundings*). What can we say about $P(\\nu_s)$ in those cases?"
   ]
  },
  {
   "cell_type": "markdown",
   "metadata": {
    "id": "CwOgjx6gcIou"
   },
   "source": [
    "The combination of System (index s) and Bath (index b) forms an *isolated* system with fixed $E$, $V$, $N$. We can therefore apply our \"Basic Principle\" to conclude\n",
    "\n",
    "* All states with $E_s+E_b=E$ are equally likely.\n",
    "* To reach a high energy state, s has to \"steal\" energy from b.\n",
    "What's the probability $P(\\nu_s)$ of system state $\\nu_s$ irrespective of the state of the bath? \n",
    "$$P(\\nu_s)=\\sum_{\\nu_b} P(\\nu_s,\\nu_b)=\\frac{\\Omega_b(E-E_s)}{\\Omega(E,V,N)}$$\n",
    "$$\\boxed{\\rightarrow P(\\nu_s)\\propto \\Omega_b(E-E_s)}$$\n",
    "\n",
    "Note that **the multiplicity of the bath alone controls the state of the system.** I.e. the more states are available to the bath the more likely a given microstate of the system is. Energy exchange is important only in sofar as it modifies the number of states available to the bath and the system. "
   ]
  },
  {
   "cell_type": "markdown",
   "metadata": {
    "id": "oCe_sGpfhKHx"
   },
   "source": [
    "The multiplicity of microstates grows exponentially with its parameters. This can be most easily demonstrated for particle numbers (see example below) but generally holds also for energy and volume. Therefore, it makes sense to introduce the logarithm of the multiplicity. That's what Ludwig Boltzmann did by introducing what's now called the **Boltzmann entropy:** $$ S\\equiv k_\\mathrm{B} \\ln \\Omega \\qquad k_\\mathrm{B}=1.38064852 × 10^{-23} {\\rm m^2\\, kg\\, s^{-2}\\, K^{-1}}.$$\n",
    "\n",
    "Using the Boltzmann entropy, we can write $$P(\\nu_s)\\propto e^{k_\\mathrm{B}^{-1}S_b(E-E_s)}.$$\n",
    "When the bath is very big (thermodynamic limit), we can Taylor expand the exponent,\n",
    "$$ S_s(E-E_s)=S_b(E)+\\left(\\frac{\\partial S}{\\partial E}\\right)_{V,N}(-E_s)+\\cdots $$\n",
    "Inserting above yields $$\\boxed{P(\\nu_s)\\propto \\exp\\left[\\text{const.}-k_B^{-1}\\left(\\frac{\\partial S_b}{\\partial E}\\right)_{V, N}E_s\\right]\\propto e^{-b E_s}\\;,\\qquad \\text{where } b\\equiv k_B^{-1}\\left(\\frac{\\partial S_b}{\\partial E}\\right)_{V, N}\\;.} $$"
   ]
  },
  {
   "cell_type": "markdown",
   "metadata": {
    "id": "d7P92EfznDKX"
   },
   "source": [
    "The factor $e^{-b E_s}$ is the **Boltzmann factor**, if we identify $b$ and $\\beta_b\\equiv (k_\\mathrm{B} T_b)^{-1}$. \n",
    "\n",
    "Thus, $$\\beta_b\\equiv \\left(\\frac{\\partial \\ln \\Omega_b}{\\partial E}\\right)_{V, N}=\\frac 1{k_\\mathrm{B}} \\left(\\frac{\\partial S_b}{\\partial E}\\right)_{V, N}.$$\n",
    "\n",
    "Equivalently, $$\\boxed{T_b\\equiv \\left(\\frac{\\partial S_b}{\\partial E}\\right)_{V, N}^{-1}}$$ is the  **thermodynamic definition** of the temperature of the bath."
   ]
  },
  {
   "cell_type": "markdown",
   "metadata": {
    "id": "b-3pU6kUSqqw"
   },
   "source": [
    "**Implication: The ratio of probabilities of two microstates is given by the ratio of their Boltzmann factors**\n",
    "$$\\frac{P(\\nu_s^{(1)})}{P(\\nu_s^{(2)})}=e^{-\\frac{E_s^{(2)}-E_s^{(1)}}{k_\\mathrm{B} T_b}}=e^{-\\frac{\\Delta E}{k_\\mathrm{B} T_b}}$$\n",
    "\n",
    "<div class=\"alert alert-info\">\n",
    "    \n",
    "**Example: Barometric height formula.**\n",
    "    \n",
    "Consider a constant gravitational force $F=-mg$ along the $z$-direction such that the potential energy is given by $E=mgz+E_0$ where $E_0$ is the energy at ground level. For simplicity, we set $E_0=0$.\n",
    "\n",
    "The potential energy difference due to a height difference $\\Delta z$ is given by $\\Delta E = m g \\Delta z$. Therefore, the ratio of the probabilities to find a particle at a given position compared to a position elevated by a height $\\Delta z$ is given by $$\\frac{P(\\nu_s^{(1)})}{P(\\nu_s^{(2)})}=\\exp\\left(-\\frac{\\Delta z}{\\lambda}\\right), \\qquad \\text{in terms of the \"scale height\"} \\lambda\\equiv \\frac{k_B T}{m g}\\approx 8 \\text{km}.$$ Thus, increasing your elevation by 8 km approximately leads to an e-fold reduction of the air density. (\"approximately\", because (i) the temperature changes with height, (ii) molecules interact and (ii) the atmosphere is not in equilibrium). \n",
    "\n",
    "So far, we just cared about ratios of probabilities. In general it is much harder to compute absolute probabilities, which requires computing a normalization constant -- the partition function. In the present one-dimensional case, however, we can do it easily: The probability $p(z)$ for finding the particle at position $z$ is given by \n",
    "$p(z)=\\frac{1}{\\lambda}\\exp\\left( -\\frac{z}{\\lambda}\\right)$, which is properly normalized, $\\int_0^\\infty p(z)=1$.\n",
    "\n",
    "    \n",
    "\n",
    "</div>\n"
   ]
  },
  {
   "cell_type": "markdown",
   "metadata": {},
   "source": [
    "<div class=\"alert alert-info\">\n",
    "    \n",
    "    \n",
    "**Example: Two-level-system**\n",
    "\n",
    "As another frequent application of Boltzmann’s law are state populations of two state systems, as we find them frequently in physics, e.g., for spin systems. Such two level spin systems are, for example, very important for nuclear magnetic resonance (NMR), which is an important tool to study the structure and dynamics of soft matter.\n",
    "\n",
    "![Two Level](img/two_level.png)\n",
    "    \n",
    "Consider the image above, where a single energy level at zero magnetic field ($B=0$) splits into two energy levels due to the interaction of a proton spin (red arrow) with the external magnetic field.\n",
    "    \n",
    "The magnetic moment of the proton spin may take two expectation values in the magnetic field, which are characterized by the magnetic quantum number $m_Z=\\pm 1/2$. The magnetic moment projected along the magnetic field direction is then \n",
    "    \n",
    "$$\\mu_Z=\\gamma m_Z \\hbar$$\n",
    "\n",
    "and the energy of the states\n",
    "    \n",
    "$$E(m_Z)=-\\mu_Z B=-\\gamma m_Z \\hbar B$$\n",
    "\n",
    "with $\\gamma=2.675222005\\times 10^{8}\\; \\mathrm{s}^{-1} \\mathrm{T}^{-1}$ being the gyromagnetic ratio of the proton.\n",
    "The energy difference for a nonzero magnetic field is therefore given by\n",
    "    \n",
    "$$\\Delta E=\\gamma \\hbar B=\\hbar \\omega_\\mathrm{L}$$\n",
    "    \n",
    "which results for a magnetic field of $B=1\\; \\mathrm{T}$ in $\\Delta E\\approx 1.76\\times 10^{-7}\\;{\\rm eV}$ or a Larmor frequency of $\\omega_\\mathrm{L}=42\\; {\\rm MHz}$. This energy difference is almost negligible as compared to the thermal energy at room temperature $k_\\mathrm{B}T=2.6\\times 10^{-2}\\;{\\rm eV}$. Yet, this small energy difference is used to give the contrast in NMR and related techniques such as MRI.\n",
    "    \n",
    "Using the Boltzmann distribution we can now calculate the ratio of the population of spins in the lower or excited state\n",
    "    \n",
    "$$\\frac{N_{-\\frac{1}{2}}}{N_{+\\frac{1}{2}}}=\\exp\\left (-\\frac{\\Delta E}{k_\\mathrm{B} T} \\right )$$\n",
    "    \n",
    "which is very close to one: $$\\frac{N_{-\\frac{1}{2}}}{N_{+\\frac{1}{2}}}=0.99999332.$$\n",
    "    \n",
    "If you consider now a volume of $V=1\\;{\\rm {\\mu m}}^3$ water, then you would roughly have about $N=6.7\\times 10^{19}$ protons. This then means that the excess number of protons in the excited state is just $N_{+\\frac{1}{2}}-N_{-\\frac{1}{2}}=4.5\\times 10^{12}$, which is extremely low. Thus, to detect something in NMR or MRI, a certain number of protons in the volume is required.    \n",
    "</div>"
   ]
  }
 ],
 "metadata": {
  "colab": {
   "include_colab_link": true,
   "provenance": []
  },
  "kernelspec": {
   "display_name": "Python 3 (ipykernel)",
   "language": "python",
   "name": "python3"
  },
  "language_info": {
   "codemirror_mode": {
    "name": "ipython",
    "version": 3
   },
   "file_extension": ".py",
   "mimetype": "text/x-python",
   "name": "python",
   "nbconvert_exporter": "python",
   "pygments_lexer": "ipython3",
   "version": "3.10.13"
  }
 },
 "nbformat": 4,
 "nbformat_minor": 4
}

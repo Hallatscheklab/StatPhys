{
 "cells": [
  {
   "cell_type": "code",
   "execution_count": 10,
   "id": "e75a65dc-22ed-472c-a520-b60d59a7cb22",
   "metadata": {},
   "outputs": [
    {
     "data": {
      "image/png": "[encoded data removed]",
      "text/plain": [
       "<Figure size 1000x200 with 1 Axes>"
      ]
     },
     "metadata": {},
     "output_type": "display_data"
    }
   ],
   "source": [
    "import matplotlib.pyplot as plt\n",
    "import numpy as np\n",
    "\n",
    "# Parameters\n",
    "length = 30  # Length of the ribbon\n",
    "l = 1        # Length of each cell\n",
    "p = 0.2      # Probability of placing a ball in a cell\n",
    "\n",
    "# Create the ribbon and divide it into cells\n",
    "cells = np.arange(0, length + l, l)\n",
    "num_cells = len(cells) - 1\n",
    "\n",
    "# Randomly place balls in cells with probability p\n",
    "balls = np.random.choice([0, 1], size=num_cells, p=[1-p, p])\n",
    "\n",
    "# Re-plotting without title and with cell length labeled\n",
    "fig, ax = plt.subplots(figsize=(10, 2))\n",
    "for i in range(num_cells):\n",
    "    rect = plt.Rectangle((i*l, 0), l, 0.5, edgecolor='black', facecolor='none')\n",
    "    ax.add_patch(rect)\n",
    "    if balls[i] == 1:\n",
    "        circle = plt.Circle((i*l + l/2, 0.25), 0.1, color='blue')\n",
    "        ax.add_patch(circle)\n",
    "\n",
    "# Labeling the cell length\n",
    "ax.text(0.5*l, -0.2, '$l$', ha='center')\n",
    "\n",
    "# Formatting the plot\n",
    "ax.set_xlim(0, length)\n",
    "ax.set_ylim(-0.5, 1)\n",
    "ax.axis('off')\n",
    "\n",
    "plt.savefig(\"solutes-in-cells.png\")\n",
    "plt.show()\n"
   ]
  },
  {
   "cell_type": "code",
   "execution_count": null,
   "id": "6e97bf1b-9ce8-4704-bb5c-e6c1e781a66d",
   "metadata": {},
   "outputs": [],
   "source": []
  }
 ],
 "metadata": {
  "kernelspec": {
   "display_name": "Python 3 (ipykernel)",
   "language": "python",
   "name": "python3"
  },
  "language_info": {
   "codemirror_mode": {
    "name": "ipython",
    "version": 3
   },
   "file_extension": ".py",
   "mimetype": "text/x-python",
   "name": "python",
   "nbconvert_exporter": "python",
   "pygments_lexer": "ipython3",
   "version": "3.10.13"
  }
 },
 "nbformat": 4,
 "nbformat_minor": 5
}

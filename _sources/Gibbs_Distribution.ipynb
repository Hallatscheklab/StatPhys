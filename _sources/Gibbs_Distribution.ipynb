{
 "cells": [
  {
   "cell_type": "markdown",
   "metadata": {},
   "source": [
    "## Particle exchange and chemical potential"
   ]
  },
  {
   "cell_type": "markdown",
   "metadata": {},
   "source": [
    "So far, we have considered closed systems and derived and studied the Boltzmann distribution.  Now our systems are open and the particle number might change. To derive the microstate probability distribution, we retrace the steps that led us to the Boltzmann distribution, except for allowing the system to trade particles with the bath.  \n",
    "\n",
    "\n",
    "```{image} figures/open_system.png\n",
    ":alt: open systems\n",
    ":class: bg-primary mb-1\n",
    ":width: 300px\n",
    ":align: center\n",
    "```"
   ]
  },
  {
   "cell_type": "markdown",
   "metadata": {},
   "source": [
    "The probability to find a system in a given microstate $\\nu_S$, in which the system has energy $E_S$ and  $N_S$ particeles, is proportional to the number of available bath states,\n",
    "\n",
    "$$P(\\nu_S)\\propto e^{k_\\mathrm{B}^{-1}S_R(E-E_S,N-N_S)}\\;.$$\n",
    "\n",
    "Next we Taylor expand the entropy of the large reservoir,\n",
    "\n",
    "$$k_\\mathrm{B}^{-1}S_R(E-E_S,N-N_S)=\\mathrm{const.}-\\beta_R(E_S-\\mu_R N_S)\\;,$$\n",
    "\n",
    "where we have the usual thermodynamic definition of temperature\n",
    "\n",
    "$$T_R^{-1}\\equiv\\frac{\\partial S_R}{\\partial E}$$\n",
    "\n",
    "and introduced the **chemical potential**\n",
    "\n",
    "$$\\mu_R\\equiv-T_R \\frac{\\partial S_R}{\\partial N}\\;.$$\n",
    "\n",
    "The chemical potential can be interpreted as the free energy added to the system when we inject one particle into the system.\n",
    "\n",
    "With these definitions, we obtain the Gibbs distribution\n",
    "\n",
    "$$P(\\nu_S)=Z^{-1}e^{-\\beta_R\\left[E_S-\\mu_R N_S\\right]}$$\n",
    "\n",
    "where the grand canonical partition function $Z$ is given by the sum\n",
    "\n",
    "$$Z=\\sum_i e^{-\\beta_R\\left[E_S^{(i)}-\\mu_R N_S^{(i)}\\right]}$$\n",
    "\n",
    "over all microstates $i$."
   ]
  },
  {
   "cell_type": "markdown",
   "metadata": {
    "editable": true,
    "slideshow": {
     "slide_type": ""
    },
    "tags": []
   },
   "source": [
    "To obtain the probability to find the system in *any one* of the states with energy $E_S$ and particle number $N_S$, we have to multiply the Gibbs distribution with the multiplicity of system states,\n",
    "\n",
    "$$P(E_S,N_S)\\propto e^{k_\\mathrm{B}^{-1}S_S(E_S,N_S)}e^{-\\beta_R\\left[E_S-\\mu_R N_S\\right]}\\;.$$\n",
    "\n",
    "If the system is large, this distribution has a pronounced peak, such that the system will have an almost deterministic energy $U$ and particle number $N$. The conditions for the maximum imply \n",
    "\n",
    "$$T_R=T_S\\qquad \\mu_R=\\mu_S\\;.$$\n",
    "\n",
    "Thus, temperatures and chemical potentials of bath and system are equal at equilibrium. \n",
    "\n",
    "Analogously to Section, one can show that the grand potential minimizes \n",
    "\n",
    "$$\\Sigma=-k_\\mathrm{B}T\\ln Z=E-T S- \\mu N \\;,$$\n",
    "\n",
    "which amounts to maximizing entropy under the constraints of mean energy and particle number"
   ]
  },
  {
   "cell_type": "markdown",
   "metadata": {},
   "source": [
    "### Volume exchange and pressure "
   ]
  },
  {
   "cell_type": "markdown",
   "metadata": {},
   "source": [
    "In complete analogy, we can also treat the case where bath and system trade energy and volume, which we briefly summarize for completeness. One obtains the microstate distribution\n",
    "\n",
    "$$P(\\nu_S)\\propto e^{-\\beta_R\\left[E_S+p_R dV_S\\right]}$$\n",
    "\n",
    "with the equilibrium condition of equal pressures $p_R=p_S$."
   ]
  },
  {
   "cell_type": "markdown",
   "metadata": {},
   "source": [
    "The equilibrium distribution minimizes the Gibbs free energy\n",
    "\n",
    "$$G=E-T S+PV=\\sum_i \\mu_i N_i \\;,$$\n",
    "\n",
    "where the last sum goes over all particle species $i$. "
   ]
  },
  {
   "cell_type": "code",
   "execution_count": null,
   "metadata": {},
   "outputs": [],
   "source": []
  }
 ],
 "metadata": {
  "kernelspec": {
   "display_name": "Python 3 (ipykernel)",
   "language": "python",
   "name": "python3"
  },
  "language_info": {
   "codemirror_mode": {
    "name": "ipython",
    "version": 3
   },
   "file_extension": ".py",
   "mimetype": "text/x-python",
   "name": "python",
   "nbconvert_exporter": "python",
   "pygments_lexer": "ipython3",
   "version": "3.10.13"
  },
  "toc": {
   "base_numbering": 1,
   "nav_menu": {},
   "number_sections": true,
   "sideBar": true,
   "skip_h1_title": false,
   "title_cell": "Table of Contents",
   "title_sidebar": "Contents",
   "toc_cell": false,
   "toc_position": {},
   "toc_section_display": true,
   "toc_window_display": false
  },
  "widgets": {
   "application/vnd.jupyter.widget-state+json": {
    "state": {},
    "version_major": 2,
    "version_minor": 0
   }
  }
 },
 "nbformat": 4,
 "nbformat_minor": 4
}

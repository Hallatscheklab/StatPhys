{
 "cells": [
  {
   "cell_type": "markdown",
   "id": "be55c225-550e-4b9a-9449-2a1a24f6ed22",
   "metadata": {},
   "source": [
    "## Diffusion"
   ]
  },
  {
   "cell_type": "markdown",
   "id": "f0f3aa72-9c9d-43dd-8682-0079c3be0b34",
   "metadata": {},
   "source": [
    "Typed up lecture notes coming soon. \n",
    "\n",
    "For now, you can {download}`these handwritten lecture notes<Diffusion.pdf>`."
   ]
  },
  {
   "cell_type": "code",
   "execution_count": null,
   "id": "2f2964d6-d27e-4141-b270-901cc4f9ed37",
   "metadata": {},
   "outputs": [],
   "source": []
  }
 ],
 "metadata": {
  "kernelspec": {
   "display_name": "Python 3 (ipykernel)",
   "language": "python",
   "name": "python3"
  },
  "language_info": {
   "codemirror_mode": {
    "name": "ipython",
    "version": 3
   },
   "file_extension": ".py",
   "mimetype": "text/x-python",
   "name": "python",
   "nbconvert_exporter": "python",
   "pygments_lexer": "ipython3",
   "version": "3.10.13"
  }
 },
 "nbformat": 4,
 "nbformat_minor": 5
}

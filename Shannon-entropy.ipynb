{
 "cells": [
  {
   "cell_type": "markdown",
   "id": "c3a427d3-2d94-41ba-ae34-1ae47dff1926",
   "metadata": {},
   "source": [
    "## Entropy and information \n",
    "- Kardar 2.7\n"
   ]
  },
  {
   "cell_type": "markdown",
   "id": "4d5f3c23-5129-44dd-9bb8-c10418e97232",
   "metadata": {},
   "source": [
    "Previously, we defined $S \\equiv \\ln [\\underbrace{\\# \\text { of configurations }}_{\\Omega}](*)$. This definition is appropriate if all configurations are equally likely.\n",
    "\n",
    "Example: Coin flipping - given $N_{+}, \\Omega\\left(N_{+}\\right)=\\left(\\begin{array}{c}N \\\\ N_{+}\\end{array}\\right)=\\frac{N !}{N_{+} N_{-}}$. Thus, $\n",
    "\\text { or } S\\left(N_{+}\\right)=N_{+} \\ln N_{+} / N+N_{-} \\ln N_{-} / N\n",
    "$\n",
    "\n",
    "\n",
    "In general $N_+$ is not fixed but itself a random variable $\\rightarrow P_{S}(S) d S=P\\left(N_{+}\\right) d N_{+} $.\n",
    "\n",
    "But in the thermodynamic limit, we know\n",
    "\n",
    "$$\n",
    "\\begin{aligned}\n",
    "& \\begin{array}{c}\n",
    "N_{+} \\rightarrow\\left\\langle N_{+}\\right\\rangle=p N, N_{-}=\\left\\langle N_{r}\\right\\rangle=q N . \\\\\n",
    "\\Rightarrow S=-N \\cdot(p \\ln p+q \\ln q) .\n",
    "\\end{array}\n",
    "\\end{aligned}\n",
    "$$\n",
    "\n",
    "$\\Rightarrow$ In the thermodynamic limit $(N \\rightarrow \\infty)$, we can only observe \"typical\" configurations $\\left(N_{+}=p N ; N_{-}=q N\\right)$; there are $e^{S}$ of them and all of them are equally likely $P({\\sigma_i})=p^{N} \\cdot q^{N}$ )\n",
    "\n",
    "These observations are easily generalized to a dice with M faces. If rolling the dice results in face $i$ with probability $p_{i}$, we expect face $i$ to show up exactly $N p_i$ times in the thermodynamic limit, $N \\rightarrow \\infty$. The number of typical configurations is therefore\n",
    "\n",
    "$$\n",
    "\\begin{aligned}\n",
    "\\Omega & \\equiv\\text{nr. of config's}=\\frac{N !}{\\left(N p_{1}\\right) !\\left(N p_{2}\\right) ! \\ldots\\left(N p_{n}\\right) !} \\\\\n",
    "& S\\equiv \\log_{2}(\\Omega)=N[\\log (N)-1]-\\sum_{i}\\left(N p_{i}\\right)\\left[\\log N p_{i}-1\\right] \\\\\n",
    "& =-N \\sum_{i=1} p_{i} \\log_2 p_{i}.\\left({*}\\right)\n",
    "\\end{aligned}\n",
    "$$\n",
    "\n",
    "In physics, $(*)$ arises as the entropy change when $M$ components are mixed together. It is therefore called \"entropy of mixing\" (also closely related to Gibbs entropy).\n",
    "\n",
    "#### Interpretation as lack of knowledge\n",
    "\n",
    "Shannon realized that the number of possible configurations consistent with our macroscopic constraints can be viewed as a *lack of knowledge* about the current microstate.\n",
    "\n",
    "Examples: \n",
    "\n",
    "- Suppose we flip coin $N$ times and we know $N_+$. Then, the actual microstate is one of $e^{S\\left(N_{+}\\right)}$ micro-states.\n",
    "- If we don't know $N_+$, respectively $N_+$ is not fixed? $\\Rightarrow e^{S}$ typical microstates, $S=-N \\sum_{i} p_{i} \\log p_{i}$. For a coin: $S=-N (p \\log p +q \\log q)$.\n",
    "\n",
    "\n",
    "#### Consequences:\n",
    "\n",
    "##### Coding \n",
    "\n",
    "Suppose we end up measuring the micro-state, how many bits do we need to store this information?\n",
    "\n",
    "For $N \\rightarrow \\infty$, simply enumerate only the $e^{S}$ typical microstates, all having came probabilities. This needs $\\log _{2}\\left(e^{s}\\right)=S \\cdot \\log _{2}(e)$ bits. (of course, this is not a proof, but it works because of CLT induced measure concentration.)\n",
    "\n",
    "Shannon thus gave an operational meaning to $S$ in terms of \"information\" and the resources required to communicate an ensemble of messages, in which symbol $i$ is drawn from $p_i$. \n",
    "\n",
    "To simplify notation Shannon introduced the information entropy, which for any probability distribution $p_{i}$, is defined as\n",
    "\n",
    "$$\n",
    "s(\\{p_i\\})=-\\left\\langle\\log p_{i}\\right\\rangle=-\\sum_{i} p_{i} \\log p_{i} \\;.\n",
    "$$"
   ]
  },
  {
   "cell_type": "markdown",
   "id": "d5af265d-d580-403c-8f88-fcc2bb8cccca",
   "metadata": {},
   "source": [
    "```{note}\n",
    "Suppose, we would like to communicate a long stream of independent and identically-distributed random variables (i.i.d.), each drawn from the distribution $p_i$. Our discussion above suggests that it is impossible to compress such data such that the code rate (average number of bits per symbol) is less than the Shannon entropy of the source, without it being virtually certain that information will be lost. ([Shannon Source Coding Theorem](https://en.wikipedia.org/wiki/Shannon%27s_source_coding_theorem)) \n",
    "```"
   ]
  },
  {
   "cell_type": "markdown",
   "id": "e2020f0e-6a36-4dc0-9a04-bc276a1da504",
   "metadata": {},
   "source": [
    "Note: \n",
    "- $s=\\log (M)$ if $p_{i}=$ const. $=\\frac{1}{M} \\quad$ \"naive encoding\"\n",
    "- But $s<\\log (M)$ for any non-uniform probability distribution.\n",
    "- data compression practically implemented by using shorter codes for symbols that occur more frequently and longer codes for symbols that are less common.\n",
    "- For example, in the English language, letters like 'e', 't', 'a', and 'o' are used much more frequently than letters like 'z', 'q', 'x', 'j'. So, in a text compression scheme, it makes sense to use fewer bits to represent 'e' or 't' than 'z' or 'q'. This results in a smaller overall file size compared to using the same number of bits for every character.\n",
    "- $I\\left[\\left\\{p_{i}\\right\\}\\right]=\\log_{2} (M)-S$ measures information content of the pdf."
   ]
  },
  {
   "cell_type": "markdown",
   "id": "a48e1a65-bb08-4c99-b19c-6e496863a6d1",
   "metadata": {},
   "source": [
    "##### Estimation:\n",
    "\n",
    "Suppose we want to estimate a distribution of $X$, about which we have some partial information, e.g. we know the value of $\\langle X\\rangle=\\sum_{i} p_{i} X_{i}$ or $\\operatorname{var}(X)$, but not $\\left\\{p_{i}\\right\\}$.\n",
    "\n",
    "According to Shannon's interpretation of entropy, the least *biased* probability distribution is the one that maximises $s$ given the constraints. This distribution is called the Maximum Entropy distribution. Any other distribution would pretend to have more information than is actually available (in form of the constraints). \n",
    "\n",
    "Example: \n",
    "\n",
    "Find the MaxEnt distribution under the constraint of a given fixed calue $\\phi$ of $\\langle F(x)\\rangle=\\sum_{i} p_{i} F\\left(x_{i}\\right)$. It goes without saying that we also have to enforce the probability distribution summing up to one, $\\langle 1\\rangle=\\sum_{i} p_{i}=1$.\n",
    "\n",
    "To maximize the entropy $s=-\\sum_{i} p_{i} \\log p_{i}$ subject to both constraint, we use two Lagrange multipliers $\\alpha, \\beta$ and maximize\n",
    "\n",
    "$$\n",
    "\\begin{aligned}\n",
    "S^{*}\\left(\\alpha, \\beta,\\left\\{p_{i}\\right\\}\\right) & =-\\sum_{i} p_{i} \\ln p_{i}-\\alpha\\left(\\sum_{i} p_{i}-1\\right)- \\\\\n",
    "& -\\beta\\left(\\sum_{i} p_{i} F\\left(x_{i}\\right)-f\\right)\n",
    "\\end{aligned}\n",
    "$$\n",
    "\n",
    "$$\n",
    "\\begin{aligned}\n",
    "\\frac{\\delta S^{*}}{\\delta p_{i}} & =-\\ln p_{i}^{*}-1-\\alpha-\\beta F\\left(x_{i}\\right) \\\\\n",
    "& \\Rightarrow p_{i}^{*}=e^{-\\left(1+\\alpha+\\beta F\\left(x_{i}\\right)\\right.}=\\frac{1}{Z} e^{-\\beta F\\left(x_{i}\\right)}\\;\n",
    "\\end{aligned}\n",
    "$$\n",
    "\n",
    "Notes:\n",
    "- This does not mean $p$ **is** $p^{*}$. Multiple $\\{p_i\\}$ may give the same $\\langle F(x)\\rangle$\n",
    "- the above maps on the Boltzmann distribution if we identify $\\beta\\equiv (k_{B} T)^{-1}$ and $F=\\text { Energy }$. The Boltzmann distribution can, therefore, be viewed as the Maximum Entropy distribution subject to the constraint of a given mean energy $\\langle H\\rangle=U$ (also called internal energy).\n",
    "- One can add further constaints and update in light of extra knouledge.\n",
    "\n",
    "$$\n",
    "\\rightarrow p_{i} \\propto e^{-\\beta F_{1}(x)-\\gamma F_{2}(x)-\\ldots}\n",
    "$$\n",
    "\n",
    "- How does this compare to the Bayesian updating rules?"
   ]
  },
  {
   "cell_type": "code",
   "execution_count": null,
   "id": "075a0c75-1a0b-47b4-8248-048d1effad9a",
   "metadata": {},
   "outputs": [],
   "source": []
  }
 ],
 "metadata": {
  "kernelspec": {
   "display_name": "Python 3 (ipykernel)",
   "language": "python",
   "name": "python3"
  },
  "language_info": {
   "codemirror_mode": {
    "name": "ipython",
    "version": 3
   },
   "file_extension": ".py",
   "mimetype": "text/x-python",
   "name": "python",
   "nbconvert_exporter": "python",
   "pygments_lexer": "ipython3",
   "version": "3.10.13"
  }
 },
 "nbformat": 4,
 "nbformat_minor": 5
}

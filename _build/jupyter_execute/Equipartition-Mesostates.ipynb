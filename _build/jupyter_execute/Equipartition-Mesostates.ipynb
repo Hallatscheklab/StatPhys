{
 "cells": [
  {
   "cell_type": "markdown",
   "metadata": {},
   "source": [
    "## Equipartition "
   ]
  },
  {
   "cell_type": "markdown",
   "metadata": {},
   "source": [
    "The statistical physics of a system is particularly simple when the total energy only depends quadratically on the dynamic variables, e.g. the positions of particles or the length of a polymer. As we discuss below, the simplification comes from the fact that evaluating the partition function merely involved carrying out Gaussian integrals, which can be done analytically. \n",
    "\n",
    "```{note}\n",
    "The equipartition theorem, also known as the law of equipartition, equipartition of energy or simply equipartition, states that every degree of freedom that appears only quadratically in the total energy has an average energy of $\\frac{1}{2}k_B T$.\n",
    "```\n",
    "\n",
    "\n",
    "\n",
    "Consider one degree of freedom for a monoatomic gas. This degree of freedom is the kinetic energy of one atom along the x-direction, which is given by\n",
    "\n",
    "\\begin{equation}\n",
    "E=\\frac{p_{X}^{2}}{2 m}\n",
    "\\end{equation}\n",
    "\n",
    "\n",
    "According to the Boltzmann distribution, the probability to find an atom with a certain momentum is given by\n",
    "\n",
    "\\begin{equation}\n",
    "P\\left(p_{x}\\right)=\\frac{\\mathrm{e}^{-\\beta\\left(p_{x}^{2} / 2 m\\right)}}{\\sum_{\\text {states }} \\mathrm{e}^{-\\beta\\left(p_{x}^{2} / 2 m\\right)}}\n",
    "\\end{equation}\n",
    "\n",
    "We can calculate the denominator, which is the partition function $Z$, by summing up (or integrating when going to continuous states) over all possible momenta\n",
    "\n",
    "\\begin{equation}\n",
    "\\sum_{\\text {states }} \\rightarrow \\int_{-\\infty}^{\\infty} \\mathrm{d} p_{x}\n",
    "\\end{equation}\n",
    "\n",
    "\n",
    "This yields\n",
    "\n",
    "\\begin{equation}\n",
    "Z\\equiv\\int_{-\\infty}^{\\infty} \\mathrm{e}^{-\\beta p_{x}^{2} / 2 m} \\mathrm{~d} p_{x}=\\sqrt{\\frac{2 m \\pi}{\\beta}}\n",
    "\\end{equation}\n",
    "\n",
    "A simple but frequently used trick shows that the mean energy (like many other thermodynamic averages) can be obtained as a derivative of the logarithm of the partition function:\n",
    "\n",
    "\\begin{equation}\n",
    "\\langle E\\rangle=\\frac{\\int_{-\\infty}^{\\infty} \\frac{p_{x}^{2}}{2 m} \\mathrm{e}^{-\\beta\\left(p_{x}^{2} / 2 m\\right)} \\mathrm{d} p_{x}}{Z}=-\\frac{\\partial \\ln Z}{\\partial\\beta}=\\frac 12 k_\\mathrm{B}T\n",
    "\\end{equation}\n",
    "\n",
    "This is the mean energy per degree of freedom. One can show that each degree of freedom, independent of the object (atom, colloid, parking car) is carrying this mean energy. \n",
    "\n",
    "<div class=\"alert alert-warning\">\n",
    "A good example for a non-quadratic degree of freedom is the barometric height formula with a potential energy that is linear in position.\n",
    "</div>"
   ]
  },
  {
   "cell_type": "markdown",
   "metadata": {},
   "source": [
    "Equipartition is useful in many ways. The fundamental degrees of freedom, e.g. the vibrations of a single molecule are quadratic in the bond length. Similarly all rotational degrees of freedom are as well. Their occupation is determined by a Boltzmann distribution and readily visible in molecular spectra. On more macroscopic scales it is very useful in the field of force measurements using optical tweezers."
   ]
  },
  {
   "cell_type": "markdown",
   "metadata": {},
   "source": [
    "<div class=\"alert alert-info\">\n",
    "    \n",
    "**Example: Position of a Bead in an Optical Tweezer**\n",
    "    \n",
    "In an optical tweezer, a polarizable object (e.g. a polymer bead) is hold in the intensity gradient of a focused laser beam. The nearly Gaussian intensity distribution of a focused beam leads, in first approximation to a linear force a parabolic potential and can be employed to measure tiny forces.   \n",
    "    \n",
    "    \n",
    "![tweezers](figures/tweezers.png)\n",
    "    \n",
    "For one dimension of the 3D optical potential it can thus be written as\n",
    "    \n",
    "\\begin{equation}\n",
    "F=-k x\n",
    "\\end{equation}\n",
    "    \n",
    "and \n",
    "\n",
    "\\begin{equation}\n",
    "E=\\frac{1}{2}k x^2\n",
    "\\end{equation}\n",
    "    \n",
    "Using the Boltznmann distribution for the potential provides the probability distribution for finding the particle at a certain position $x$\n",
    "    \n",
    "    \n",
    "\\begin{equation}    \n",
    "p(x)=\\frac{1}{Z}\\exp\\left(-\\frac{kx^2}{2k_B T} \\right)\n",
    "\\end{equation}    \n",
    "\n",
    "which resembles a Gaussian distribution with a variance of\n",
    "\n",
    "\\begin{equation}\n",
    "\\sigma^2=\\langle x^2 \\rangle =\\frac{k_B T}{k}\n",
    "\\end{equation}   \n",
    "    \n",
    "    \n",
    "We also readily recognize that the partition function $Z$ is the normalization factor of the Gaussian\n",
    "    \n",
    "\\begin{equation}\n",
    "Z=\\sqrt{2\\pi }\\sigma=\\sqrt{2\\pi\\frac{k_B T }{k}}\n",
    "\\end{equation}\n",
    "    \n",
    "The mean potential energy is then calculated by\n",
    "    \n",
    "\\begin{equation}\n",
    "\\langle E \\rangle =\\int_{-\\infty}^{\\infty} E\\, p(x)\\,dx=\\frac{1}{2}k\\int_{-\\infty}^{\\infty} x^2 p(x)dx=\\frac{1}{2}k \\frac{k_B T}{k}=\\frac{1}{2}k_B T\n",
    "\\end{equation}\n",
    "    \n",
    "With the help of the variance of the distribution mentioned above, we also recognize that the trap stiffness can be obtained by dividing th ethermal energy $k_B T$ by the variance of the positional fluctuations. \n",
    "    \n",
    "\\begin{equation}\n",
    "k=\\frac{k_B T}{\\langle x^2\\rangle }\n",
    "\\end{equation}\n",
    "\n",
    "which is very helpful for the experiment calibrating the trap stiffness for using the tweezers for force measurements. According to that you just have to observe the position of the trapped object in the potential and measure the variance.   \n",
    "We will deal with this relation later again in the section about the fluctuation dissipation relation.    \n",
    "\n",
    "The second degree of freedom of a particle in an optical tweezer is given by its velocity $v$. This is as well a quadratic degree in $v$, yet its measurement turns out to be tricky. As the particle is carrying out Brownian motion in the trap, its velocity is not given by the difference of positions divided by the difference in observation times. To measure the velocity accurately one has to got to very short times, when the particle is carrying out ballistic motion. This has been achieved only about 10 years ago, while the distribution connected to the velocities, the **Maxwell-Boltzmann distribution** is already known for a very long time.\n",
    "    \n",
    "Take some time to have a look at the Maxwell-Boltzmann distribution again.\n",
    "    \n",
    "</div>"
   ]
  },
  {
   "cell_type": "markdown",
   "metadata": {
    "tags": [],
    "toc-hr-collapsed": true
   },
   "source": [
    "## When a Macrostate is a Microstate"
   ]
  },
  {
   "cell_type": "markdown",
   "metadata": {},
   "source": [
    "In practice, we are often interested in the likelihood that the system is in a state that is described by some macroscopic parameter $X$ that we can measure. For example, for a DNA molecule inside a cell, an interesting quantity, which can be measured using fluorescent markers, is the distance R between two sites on the DNA chain. Repeated measurements of $R$ can to construct the probability distribution p(R).\n",
    "\n",
    "In general, the probability of the macrostate $X$ is given by the sum of probabilities of all the microstates of the system that adopt the specified value $X$,\n",
    "\n",
    "\\begin{equation} \n",
    "p(X)=\\sum_{i_{X}} p_{i}=\\sum_{i_{X}} \\frac{1}{Z} \\mathrm{e}^{-\\beta E_{i}}\n",
    "\\end{equation}\n",
    "\n",
    "For the DNA example, the sum in the above equation would run over only those microstates $i_X$ that have the prescribed distance between the two labeled sites on the polymer, e.g. $X=R$.\n",
    "Using the basic relation between the partition function and the free energy, $F = −k_BT \\ln(Z)$, we can express the probability of the macrostate X as\n",
    "\n",
    "\\begin{equation}\n",
    "p(X)=\\frac{1}{Z} \\mathrm{e}^{-\\beta F(X)}\n",
    "\\end{equation}\n",
    "\n",
    "where\n",
    "\n",
    "\\begin{equation}\n",
    "F(X)=-k_{\\mathrm{B}} T \\ln \\left(\\sum_{i_{X}} \\mathrm{e}^{-\\beta E_{i}}\\right)\n",
    "\\end{equation}\n",
    "\n",
    "is the free energy of the macrostate $X$. Note that the formula for $p(X)$ is identical to the Boltzmann formula for the probability of a microstate, with the energy of the microstate replaced by the free energy of the macrostate. Note that the sum on the right side of the last equation is not the partition function $Z$ but that of the subensemble of microstates fulfilling the condition X, i.e. $Z_X$. Similarly, when writing down the states and weights for the macrostates $X$, the energy is replaced by the free energy, as shown in in the figure below. In this sense, one person’s macrostate is truly another person’s microstate.\n",
    "\n",
    "\n",
    "![micro_macro](figures/micro_macro.png)"
   ]
  },
  {
   "cell_type": "code",
   "execution_count": null,
   "metadata": {},
   "outputs": [],
   "source": []
  }
 ],
 "metadata": {
  "kernelspec": {
   "display_name": "Python 3 (ipykernel)",
   "language": "python",
   "name": "python3"
  },
  "language_info": {
   "codemirror_mode": {
    "name": "ipython",
    "version": 3
   },
   "file_extension": ".py",
   "mimetype": "text/x-python",
   "name": "python",
   "nbconvert_exporter": "python",
   "pygments_lexer": "ipython3",
   "version": "3.10.13"
  },
  "toc": {
   "base_numbering": "1",
   "nav_menu": {},
   "number_sections": true,
   "sideBar": true,
   "skip_h1_title": false,
   "title_cell": "Table of Contents",
   "title_sidebar": "Contents",
   "toc_cell": false,
   "toc_position": {
    "height": "calc(100% - 180px)",
    "left": "10px",
    "top": "150px",
    "width": "384px"
   },
   "toc_section_display": true,
   "toc_window_display": true
  },
  "toc-autonumbering": false,
  "toc-showcode": false,
  "toc-showmarkdowntxt": false,
  "toc-showtags": false,
  "widgets": {
   "application/vnd.jupyter.widget-state+json": {
    "state": {},
    "version_major": 2,
    "version_minor": 0
   }
  }
 },
 "nbformat": 4,
 "nbformat_minor": 4
}
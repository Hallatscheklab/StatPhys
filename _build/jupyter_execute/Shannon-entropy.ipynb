{
 "cells": [
  {
   "cell_type": "markdown",
   "id": "c3a427d3-2d94-41ba-ae34-1ae47dff1926",
   "metadata": {},
   "source": [
    "## Shannon entropy (Kardar 2.7)\n",
    "\n",
    "In our previous discussion, we defined "
   ]
  },
  {
   "cell_type": "markdown",
   "id": "a8c2651e-9e9f-4a8f-a180-3ca404b889e0",
   "metadata": {},
   "source": []
  },
  {
   "cell_type": "code",
   "execution_count": null,
   "id": "075a0c75-1a0b-47b4-8248-048d1effad9a",
   "metadata": {},
   "outputs": [],
   "source": []
  }
 ],
 "metadata": {
  "kernelspec": {
   "display_name": "Python 3 (ipykernel)",
   "language": "python",
   "name": "python3"
  },
  "language_info": {
   "codemirror_mode": {
    "name": "ipython",
    "version": 3
   },
   "file_extension": ".py",
   "mimetype": "text/x-python",
   "name": "python",
   "nbconvert_exporter": "python",
   "pygments_lexer": "ipython3",
   "version": "3.10.13"
  }
 },
 "nbformat": 4,
 "nbformat_minor": 5
}
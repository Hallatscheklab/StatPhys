{
 "cells": [
  {
   "cell_type": "markdown",
   "metadata": {},
   "source": [
    "## Particle exchange and chemical potential"
   ]
  },
  {
   "cell_type": "markdown",
   "metadata": {},
   "source": [
    "So far, we have considered closed systems and derived and studied the Boltzmann distribution.  Now our systems are open and the particle number might change. To derive the microstate probability distribution, we retrace the steps that led us to the Boltzmann distribution, except for allowing the system to trade particles with the bath.  \n",
    "<div>\n",
    "<img src=\"img/open_system.png\" width=\"300\"/>\n",
    "</div>"
   ]
  },
  {
   "cell_type": "markdown",
   "metadata": {},
   "source": [
    "The probability to find a system in a given microstate $\\nu_s$, in which the system has energy $E_\\mathrm{s}$ and  $N_\\mathrm{s}$ particeles, is proportional to the number of available bath states,\n",
    "$$P(\\nu_s)\\propto e^{k_\\mathrm{B}^{-1}S_b(E-E_s,N-N_s)}\\;.$$\n",
    "Next we Taylor expand the entropy of the large bath,\n",
    "$$k_\\mathrm{B}^{-1}S_b(E-E_s,N-N_s)=\\mathrm{const.}-\\beta_b(E_s-\\mu_b N_s)\\;,$$\n",
    "where we have the usual thermodynamic definition of temperature\n",
    "$$T_b^{-1}\\equiv\\frac{\\partial S_b}{\\partial E}$$\n",
    "and introduced the **chemical potential**\n",
    "$$\\mu_b\\equiv-T_b \\frac{\\partial S_b}{\\partial N}\\;.$$\n",
    "The chemical potential can be interpreted as the free energy added to the system when we inject one particle into the system.\n",
    "\n",
    "With these definitions, we obtain the **Gibbs distribution**\n",
    "$$P(\\nu_s)=Z^{-1}e^{-\\beta_b\\left[E_s-\\mu_b N_s\\right]}$$\n",
    "where the grand canonical partition function $Z$ is given by the sum\n",
    "$$Z=\\sum_i e^{-\\beta_b\\left[E_s^{(i)}-\\mu_b N_s^{(i)}\\right]}$$\n",
    "over all microstates $i$."
   ]
  },
  {
   "cell_type": "markdown",
   "metadata": {},
   "source": [
    "To obtain the probability to find the system in *any one* of the states with energy $E_s$ and particle number $N_s$, we have to multiply the Gibbs distribution with the multiplicity of system states,\n",
    "$$P(E_s,N_s)\\propto e^{k_\\mathrm{B}^{-1}S_s(E_s,N_s)}e^{-\\beta_b\\left[E_s-\\mu_b N_s\\right]}\\;.$$\n",
    "If the system is large, this distribution has a pronounced peak, such that the system will have an almost deterministic energy $U$ and particle number $N$. The conditions for the maximum imply \n",
    "$$T_b=T_s\\qquad \\mu_b=\\mu_s\\;.$$\n",
    "Thus, temperatures and chemical potentials of bath and system are equal at equilibrium. \n",
    "\n",
    "Consideration of spontaneous processes shows that the equilibrium minimizes the grand potential\n",
    "$$\\Sigma=-k_\\mathrm{B}T\\ln Z=U-T S- \\mu N.$$"
   ]
  },
  {
   "cell_type": "markdown",
   "metadata": {},
   "source": [
    "### Volume exchange and pressure "
   ]
  },
  {
   "cell_type": "markdown",
   "metadata": {},
   "source": [
    "In complete analogy, we can also treat the case where bath and system trade energy and volume, which we briefly summarize for completeness. One obtains the microstate distribution\n",
    "$$P(\\nu_s)\\propto e^{-\\beta_b\\left[E_s+p_b dV_s\\right]}$$\n",
    "with the equilibrium condition of equal pressures $p_b=p_s$."
   ]
  },
  {
   "cell_type": "markdown",
   "metadata": {},
   "source": [
    "Consideration of spontaneous processes shows that the equilibrium minimizes the Gibbs free energy\n",
    "$$G=U-T S+PV=\\sum_i \\mu_i N_i \\;,$$\n",
    "where the last sum goes over all particle species $i$. "
   ]
  },
  {
   "cell_type": "code",
   "execution_count": null,
   "metadata": {},
   "outputs": [],
   "source": []
  }
 ],
 "metadata": {
  "kernelspec": {
   "display_name": "Python 3 (ipykernel)",
   "language": "python",
   "name": "python3"
  },
  "language_info": {
   "codemirror_mode": {
    "name": "ipython",
    "version": 3
   },
   "file_extension": ".py",
   "mimetype": "text/x-python",
   "name": "python",
   "nbconvert_exporter": "python",
   "pygments_lexer": "ipython3",
   "version": "3.9.12"
  },
  "toc": {
   "base_numbering": 1,
   "nav_menu": {},
   "number_sections": true,
   "sideBar": true,
   "skip_h1_title": false,
   "title_cell": "Table of Contents",
   "title_sidebar": "Contents",
   "toc_cell": false,
   "toc_position": {},
   "toc_section_display": true,
   "toc_window_display": false
  },
  "widgets": {
   "application/vnd.jupyter.widget-state+json": {
    "state": {},
    "version_major": 2,
    "version_minor": 0
   }
  }
 },
 "nbformat": 4,
 "nbformat_minor": 4
}

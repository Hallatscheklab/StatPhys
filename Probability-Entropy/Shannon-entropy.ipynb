{
 "cells": [
  {
   "cell_type": "markdown",
   "id": "c3a427d3-2d94-41ba-ae34-1ae47dff1926",
   "metadata": {},
   "source": [
    "## Entropy and information \n",
    "- Kardar 2.7\n"
   ]
  },
  {
   "cell_type": "markdown",
   "id": "4d5f3c23-5129-44dd-9bb8-c10418e97232",
   "metadata": {},
   "source": [
    "Previously, we defined $S \\equiv \\ln [\\underbrace{\\# \\text { of configurations }}_{\\Omega}](*)$. This definition is appropriate if all configurations are equally likely.\n",
    "\n",
    "Example (Coin flipping): given $N_{+}$ heads, the number of possible sequences with this number of heads is $\\Omega\\left(N_{+}\\right)=\\left(\\begin{array}{c}N \\\\ N_{+}\\end{array}\\right)=\\frac{N !}{N_{+}! N_{-}!}$. Thus,\n",
    "\n",
    "$$\n",
    "\\begin{align}\n",
    "S\\left(N_{+}\\right) &= N\\ln N - N - N_+\\ln N_+ + N_+ - N_-\\ln N_- + N_- \\\\\n",
    "                    &= (N_+ + N_-) \\ln N - N_+\\ln N_+ - N_-\\ln N_-  \\\\\n",
    "                    &= -N_{+} \\ln(N_{+} / N) - N_{-} \\ln(N_{-} / N).\n",
    "\\end{align}\n",
    "$$\n",
    "\n",
    "\n",
    "In general $N_+$ is not fixed but itself a random variable with some distribution $P\\left(N_{+}\\right)$, so that the entropy too is a random variable, with $P_{S}(S) d S=P\\left(N_{+}\\right) d N_{+} $.\n",
    "\n",
    "Nonetheless, from last lecture, in the thermodynamic limit we know that $P\\left(N_{+}\\right)$ is sharply peaked, with\n",
    "\n",
    "$$\n",
    "\\begin{aligned}\n",
    "& \\begin{array}{c}\n",
    "N_{+} \\rightarrow\\left\\langle N_{+}\\right\\rangle=p N, \\quad N_{-}=\\left\\langle N_{r}\\right\\rangle=q N . \\\\\n",
    "\\end{array}\n",
    "\\end{aligned}\n",
    "$$\n",
    "\n",
    "Thus,\n",
    "\n",
    "$$S \\to -N (p \\ln p+q \\ln q).$$\n",
    "\n",
    "$\\Rightarrow$ In the thermodynamic limit $(N \\rightarrow \\infty)$, we can *only* observe \"typical\" configurations $\\left(N_{+}=p N ; N_{-}=q N\\right)$; there are $e^{S}$ of them and all of them are equally likely, $P(\\{\\sigma_i\\}) = 1/e^{S} = p^{N_+} q^{N_-}$.\n",
    "\n",
    "These observations are easily generalized to a dice with $M$ faces. If rolling the dice results in face $i$ with probability $p_{i}$, we expect face $i$ to show up exactly $N p_i$ times in the thermodynamic limit, $N \\rightarrow \\infty$. The number of typical configurations is therefore\n",
    "\n",
    "$$\n",
    "\\begin{aligned}\n",
    "\\Omega & \\equiv\\text{nr. of config's}=\\frac{N !}{\\left(N p_{1}\\right) !\\left(N p_{2}\\right) ! \\ldots\\left(N p_{n}\\right) !} \\\\\n",
    "& S\\equiv \\ln_{2}(\\Omega)=N[\\ln (N)-1]-\\sum_{i}\\left(N p_{i}\\right)\\left[\\ln N p_{i}-1\\right] \\\\\n",
    "& =-N \\sum_{i=1}^M p_{i} \\ln p_{i}.\\left({*}\\right)\n",
    "\\end{aligned}\n",
    "$$\n",
    "\n",
    "In physics, $(*)$ arises as \n",
    "\n",
    "- the entropy change when $M$ components are mixed together. It is therefore called \"entropy of mixing\".\n",
    "- the entropy of system of $N$ non-interacting subsystems. (In practice, it is enough if the subsystems are weakly interacting. For example, we can subdivide a $1 m^3$ cube of water into $N=10^6$ subsystems of $cm^3-$cubes of water. Even though there is some interaction on the interface between the small cubes, the interaction energies are negligible compared to the relevant bulk energies. In practice, it depends on a correlation length how strongly we can subdivide a given macroscopic system.) We further assume that each subsystem can be in one of $M$ states following the probability distribution $\\{p_i\\}$, i.e. a subsystem is in state $i$ with probability $p_i$. Then $s=-\\sum_{i=1}^M p_{i} \\ln p_{i}$ is the Gibbs entropy of each of the subsystems, and $S=N s$ is the total entropy of the system. \n",
    "\n",
    "#### Interpretation as lack of knowledge\n",
    "\n",
    "Shannon realized that the number of possible configurations consistent with our macroscopic constraints can be viewed as a *lack of knowledge* about the current microstate.\n",
    "\n",
    "Examples: \n",
    "\n",
    "- Suppose we flip coin $N$ times and we know $N_+$. Then, the actual microstate is one of $e^{S\\left(N_{+}\\right)}$ micro-states.\n",
    "- If we don't know $N_+$, respectively $N_+$ is not fixed? $\\Rightarrow e^{S}$ typical microstates, $S=-N \\sum_{i} p_{i} \\ln p_{i}$. For a coin: $S=-N (p \\ln p +q \\ln q)$.\n",
    "\n",
    "\n",
    "#### Consequences:\n",
    "\n",
    "##### Coding \n",
    "\n",
    "Suppose we end up measuring the micro-state of our system of $N$ coin flips or dice tosses, how many bits do we need to store this information?\n",
    "\n",
    "For $N \\rightarrow \\infty$, simply enumerate only the $e^{S}$ typical microstates, all having *same* probabilities (namely $1/e^{S}$). This needs $\\log_{2}\\left(e^{s}\\right)=S \\cdot \\log_{2}(e)$ bits. (of course, this is not a proof, but it works because of CLT induced measure concentration.)\n",
    "\n",
    "Shannon thus gave an operational meaning to $S$ in terms of \"information\" and the resources required to communicate an ensemble of messages, where each message represents a sequence of dice throws. Each symbol of the message represents a discrete random variable $X$, attaining a value $x_i$ with probability $p_i$. To simplify notation Shannon introduced the information entropy a discrete random variable $X$:\n",
    "\n",
    "$$\n",
    "H(X)\\equiv -\\left\\langle\\log_2 p_{i}\\right\\rangle=-\\sum_{i} p_{i} \\log_2 p_{i} \\;.\n",
    "$$\n",
    "\n",
    "The number of bits needed to convey a string of $N$ such random numbers is $N H(X)$ as $N\\to \\infty$. In our original notation, the entropy $S$ of a sequence of $N$ dice throws is given by $S=N H(\\{p\\}) \\ln(2)$. Notice that the binary log appears in the Information entropy because Shannon cared about bits. "
   ]
  },
  {
   "cell_type": "markdown",
   "id": "d5af265d-d580-403c-8f88-fcc2bb8cccca",
   "metadata": {},
   "source": [
    "```{note}\n",
    "Suppose, we would like to communicate a long stream of independent and identically-distributed random variables (i.i.d.), each drawn from the distribution $p_i$. Our discussion above suggests that it is impossible to compress such data such that the code rate (average number of bits per symbol) is less than the Entropy of the source distribution, without it being virtually certain that information will be lost. ([Shannon Source Coding Theorem](https://en.wikipedia.org/wiki/Shannon%27s_source_coding_theorem)) \n",
    "```"
   ]
  },
  {
   "cell_type": "markdown",
   "id": "e2020f0e-6a36-4dc0-9a04-bc276a1da504",
   "metadata": {},
   "source": [
    "Note: \n",
    "- $H=\\log (M)$ if $p_{i}=$ const. $=\\frac{1}{M} \\quad$ \"naive encoding\"\n",
    "- But $H<\\log (M)$ for any non-uniform probability distribution.\n",
    "- data compression practically implemented by using shorter codes for symbols that occur more frequently and longer codes for symbols that are less common.\n",
    "- For example, in the English language, letters like 'e', 't', 'a', and 'o' are used much more frequently than letters like 'z', 'q', 'x', 'j'. So, in a text compression scheme, it makes sense to use fewer bits to represent 'e' or 't' than 'z' or 'q'. This results in a smaller overall file size compared to using the same number of bits for every character.\n",
    "- $I\\left[\\left\\{p_{i}\\right\\}\\right]=\\log_{2} (M)-S$ measures information content of the pdf."
   ]
  },
  {
   "cell_type": "markdown",
   "id": "d98648df-c399-4f48-bec1-0795535dcacc",
   "metadata": {},
   "source": [
    "Concrete data compression example:\n",
    "- Suppose $K=4$, $\\vec p=(\\frac 12, \\frac 14, \\frac 18, \\frac 18)^T$\n",
    "- We could use a binary representation $\\rightarrow$ need 2 bits for 4 possibilities\n",
    "- Better is the code\n",
    "    - $1 \\rightarrow 0$\n",
    "    - $2 \\rightarrow 10$\n",
    "    - $3 \\rightarrow 110$\n",
    "    - $4 \\rightarrow 111$\n",
    "- note that the code word length $\\ell_i$ for symbol $i$ is just $\\ell_i=\\log_2 p_i$\n",
    "- The average code word length per symbol is therefore $\\langle L\\rangle/N=-\\sum p_i\\log_2p_i=H(X)=\\frac 74<2$\n",
    "- In fact, the above code can be generalized to obtain an optimal code for any source distribution, provided the messages are long enough and consist of uncorrelated symbols.\n",
    "      "
   ]
  },
  {
   "cell_type": "markdown",
   "id": "a48e1a65-bb08-4c99-b19c-6e496863a6d1",
   "metadata": {
    "editable": true,
    "slideshow": {
     "slide_type": ""
    },
    "tags": []
   },
   "source": [
    "##### Estimation:\n",
    "\n",
    "Suppose we want to estimate a distribution of $X$, about which we have some partial information, e.g. we know the value of $\\langle X\\rangle=\\sum_{i} p_{i} X_{i}$ or $\\operatorname{var}(X)$, but not $\\left\\{p_{i}\\right\\}$.\n",
    "\n",
    "According to Shannon's interpretation of entropy, the least *biased* probability distribution is the one that maximises $H(X)$ given the constraints. This distribution is called the Maximum Entropy distribution. Any other distribution would pretend to have more information than is actually available (in form of the constraints). \n",
    "\n",
    "Example: \n",
    "\n",
    "Find the MaxEnt distribution under the constraint of a given fixed value $\\phi$ of $\\langle F(x)\\rangle=\\sum_{i} p_{i} F\\left(x_{i}\\right)$. It goes without saying that we also have to enforce the probability distribution summing up to one, $\\langle 1\\rangle=\\sum_{i} p_{i}=1$.\n",
    "\n",
    "To maximize the entropy $H=-\\sum_{i} p_{i} \\log p_{i}$ subject to both constraint, we use two Lagrange multipliers $\\alpha, \\beta$ and maximize the Lagrangian function \n",
    "\n",
    "$$\n",
    "\\begin{aligned}\n",
    "\\mathcal{L}\\left(\\alpha, \\beta,\\left\\{p_{i}\\right\\}\\right) & =-\\sum_{i} p_{i} \\ln p_{i}-\\alpha\\left(\\sum_{i} p_{i}-1\\right)- \\\\\n",
    "& -\\beta\\left(\\sum_{i} p_{i} F\\left(x_{i}\\right)-f\\right)\n",
    "\\end{aligned}\n",
    "$$\n",
    "\n",
    "$$\n",
    "\\begin{aligned}\n",
    "\\left. \\frac{\\delta \\mathcal{L}}{\\delta p_{i}} \\right|_{p=p^{*}}& =-\\ln p_{i}^{*}-1-\\alpha-\\beta F\\left(x_{i}\\right) \\\\\n",
    "& \\Rightarrow p_{i}^{*}=e^{-\\left(1+\\alpha+\\beta F\\left(x_{i}\\right))\\right.}=\\frac{1}{Z} e^{-\\beta F\\left(x_{i}\\right)}\\;\n",
    "\\end{aligned}\n",
    "$$\n",
    "\n",
    "Notes:\n",
    "- This does not mean $p$ **is** $p^{*}$. Multiple $\\{p_i\\}$ may give the same $\\langle F(x)\\rangle$\n",
    "- the above maps on the Boltzmann distribution if we identify $\\beta\\equiv (k_{B} T)^{-1}$ and $F=\\text { Energy }$. The Boltzmann distribution can, therefore, be viewed as the Maximum Entropy distribution subject to the constraint of a given mean energy (also called internal energy).\n",
    "- One can add further constaints and update in light of extra knouledge.\n",
    "\n",
    "$$\n",
    "\\rightarrow p_{i} \\propto e^{-\\beta F_{1}(x)-\\gamma F_{2}(x)-\\ldots}\n",
    "$$\n",
    "\n",
    "- How does this compare to the Bayesian updating rules?"
   ]
  },
  {
   "cell_type": "markdown",
   "id": "ea25aa87-da50-4bf5-9f66-80f33afc6dc1",
   "metadata": {},
   "source": [
    "##### Relative entropy\n",
    "\n",
    "- Suppose the symbols $X$ of a message are drawn from the distribution $\\operatorname{Pr}\\left[X=x_{i}\\right]=p_{i}$. But we think they are drawn from $\\{q_{i}\\}$ instead, use correspondingly sized code words and, hence, do not optimally compress the message. Instead there will be discrepancy between the length $L(N)$ of the number of bits we use, $L(N)=-N \\sum_{i} p_{i} \\log q_{i} $ and the minimal number of bits, $L_{min}(N)=-N \\sum_{i} p_{i} \\log p_{i}$, which is given by the entropy. The relative difference,\n",
    "\n",
    "$$\n",
    "\\begin{array}{r}\n",
    "\\frac{L-L_{\\text {min }}}{N}=\\sum_{i} p_{i} \\log \\left(\\frac{p_{i}}{q_{i}}\\right)\\equiv D_{K L}(\\vec{p} \\| \\vec{q})\n",
    "\\end{array}\n",
    "$$ (KL-div)\n",
    "\n",
    "is called Kullback-Leibler (KL) divergence or relative entropxy. \n",
    "\n",
    "- Suppose we obtain samples $\\left\\{X_{i}\\right\\}$ and want to decide whether they are drawn from $\\vec{p}$ or $\\vec{q}$. To this end, we compare the log-likelihoods for drawing the samples from either distribution, \n",
    "\n",
    "$$\n",
    "\\begin{gathered}\n",
    "\\log \\left[\\frac{P(\\text { samples } \\mid \\vec{p})}{P(\\text { samples } \\mid \\vec{q})}\\right]=\\sum_{i} n\\left(x_{i}\\right) \\log_2\\left(\\frac{p_{i}}{q_{i}}\\right) \\\\\n",
    "\\longrightarrow N \\sum_{i} p_{i} \\log \\left(\\frac{p_{i}}{q_{i}}\\right)=N D_{k L}(\\vec{p} \\| \\vec{q})\n",
    "\\end{gathered}\n",
    "$$\n",
    "\n",
    "Thus, we need $\\gtrsim D_{K L}^{-1}(\\vec{p} \\| \\vec{q})$ samples to reliably tell that the samples are drawn from $\\vec{p}$ instead of $\\vec{q}$."
   ]
  },
  {
   "cell_type": "markdown",
   "id": "f28a4c5c-7a63-4581-ad74-f55d96e6ebbb",
   "metadata": {},
   "source": [
    "```{note}\n",
    "When our calculations involve probability distributions of more than one random variable, as in the next section, it is sometimes challenging to keep the different conditional / joint / marginal distributions apart. Then, it is useful to use the following detailed notation\n",
    "\n",
    "$$\n",
    "\\begin{gathered}\n",
    "P_X(x)\\equiv\\Pr[X=x] \\\\\n",
    "P_Y(y)\\equiv\\Pr[Y=y] \\\\ \n",
    "P_{(X,Y)}(x,y)\\equiv\\Pr[X=x \\,\\&\\, Y=y]=P_{(Y,X)}(y,x) \\qquad {\\rm joint \\; probability}\\\\\n",
    "P_{(X|Y)}(x|y)\\equiv \\Pr[X=x|Y=y] \\qquad {\\rm conditional \\; probability}\n",
    "\\end{gathered}\n",
    "$$\n",
    "\n",
    "Note that conditional and joint probability are connected via\n",
    "\n",
    "$$\n",
    "\\begin{gathered}\n",
    "P_{(X,Y)}(x,y) = P_{(X|Y)}(x|y)P_Y(y) = P_{(Y|X)}(y|x)P_X(x)\n",
    "\\end{gathered}\n",
    "$$\n",
    "\n",
    "which implies Bayes theorem\n",
    "\n",
    "$$\n",
    "P_{(X|Y)}(x|y)=\\frac{P_{(Y|X)}(y|x)P_X(x)}{P_Y(y)}\n",
    "$$\n",
    "\n",
    "```"
   ]
  },
  {
   "cell_type": "markdown",
   "id": "e4aacd0b-cd6c-4f7d-aba0-8d18f6751cce",
   "metadata": {},
   "source": [
    "##### Mutual information\n",
    "\n",
    "Recall that we can interpret $S(X) \\cong$ as lack of knowledge about $X$. Measurements can reduce our lack of knowledge, but often we cannot measure a particular quantity $X$ directly but only a quantity $Y$ that is correlated with $X$. For example, we may be interested in knowing the particular microstate of a 1d spin chain, but we can only measure the magnetization of the spin chain - the difference between up- and down-spins. \n",
    "\n",
    "¿By how much does our lack of knowledge about $X$ decrease when we measure $Y$?"
   ]
  },
  {
   "cell_type": "markdown",
   "id": "ccd7d183-29f0-43fa-bc64-3626960e9cbb",
   "metadata": {},
   "source": [
    "To address this question, let's first assume we measure a particular value $Y=y$. The fact that we now know the value of $Y$ changes the entropy of $X$ from the initial entropy $S(X)$ of the $X$ distribution,\n",
    "\n",
    "$$ S(X)= -\\sum_{x} P_{X}(x) \\log_2 P_{X}(x)\\;,$$\n",
    "\n",
    "to the entropy $S(X|y)$ of the conditional probability distribution $P(x|y)$ of $x$ given $y$, \n",
    "\n",
    "$$S(X|y)= -\\sum_{x} P_{(X|Y)}(x|y) \\log_2 P_{(X|Y)}(x|y). $$\n",
    "\n",
    "Note that we do not necessarily have $S(X|y)<S(X)$, for example if the particular measurement $Y=y$ indicates that there is a lot of noise in $X$. \n",
    "\n",
    "However, if we average the negative entropy change over all possible $y$'s drawn from $P_Y$ we obtain a non-negative quantity \n",
    "\n",
    "$$\n",
    "\\begin{gathered}\n",
    "I(X;Y)\\equiv \\text{entropy before}-\\text{entropy after} \\\\\n",
    "= S(X) - S(X|Y) \\\\\n",
    "= S(X) - \\langle S(X|y)\\rangle_y \\\\\n",
    "=-\\sum_{x} P_{X}(x) \\log P_{X}(x)+\\sum_{Y} P_{Y}(y) \\sum_{x} P_{(X|Y)}(x|y) \\log P_{(X|Y)}(x \\mid y) \\\\\n",
    "=\\sum_{x, y} P_{(X,Y)}(x, y) \\log \\left[\\frac{P_{(X|Y)}(x \\mid y)}{P_{X}(x)}\\right] \\\\\n",
    "=\\sum_{x, y} P_{(X,Y)}(x, y) \\log \\left[\\frac{P_{(X,Y)}(x, y)}{P_{X}(x) P_{Y}(y)}\\right] \\\\\n",
    "=D_{KL}(P_{(X,Y)}||P_{X}\\otimes P_Y) \\;,\n",
    "\\end{gathered}\n",
    "$$\n",
    "\n",
    "which is called mutual information $I(X;Y)$ between $X$ and $Y$. $I(X;Y)$ measures how many bits of information we can learn on average about $X$ when we measure $Y$.\n",
    "\n",
    "\n",
    "The notation \"$X;Y$\" makes it clear that the expression is symmetric (evident from the last line of the last formula): on average, measuring $Y$ tells as much about $X$ as measuring $X$ tells us about $Y$. \n",
    "\n",
    "Recalling our discussion of Kullback-Leibler divergence, we  see that the mutual information is a positive quantity unless $X$ and $Y$ are uncorrelated, $P_{(X,Y)}=P_{X}\\otimes P_Y$. \n",
    "\n",
    "Interestingly, if we consider only discrete sets of possibilities, then entropies are positive (or zero), so  that these equations imply the bounds $I (X; Y) \\leq S(X)$ and $I (X; Y) \\leq S(Y)$.\n",
    "\n",
    "\n",
    "\n",
    "The mutual information appears is a central quantity in information theory and appears in basic models of information flow:\n",
    "\n",
    "![](https://wikimedia.org/api/rest_v1/media/math/render/svg/3e5366c809cb41ab57f4364b475895f13a9dd328)\n",
    "\n",
    "$I(X;Y)$ quantifies how efficiently $Y$ encodes $X$. \n",
    "\n",
    "The maximal rate of information transmission through the channel is given by the channel capacity\n",
    "\n",
    "$$\n",
    "C=\\sup_{P_X}I(X;Y)\\;.\n",
    "$$"
   ]
  },
  {
   "cell_type": "markdown",
   "id": "a8442af1-e252-47fe-b75c-e5f3e37b4bee",
   "metadata": {},
   "source": [
    "Example: \n",
    "\n",
    "To see how the ideas of entropy reduction and information work in a real example,  let’s consider the response of a neuron to sensory inputs (for more, see Bialek's book, Ch. 6.2 {cite}`bialek2012biophysics` and the original paper published in PRL{cite}`strong1998entropy`). "
   ]
  },
  {
   "cell_type": "markdown",
   "id": "ff98609a-0b22-42f0-87fe-8aa769c714f1",
   "metadata": {},
   "source": [
    "Figure 6.5 shows the results of experiments on the motion-sensitive neuron H1 in the fly visual system. In these experiments, a fly sees a randomly moving pattern,  and H1 responds with a stream of spikes. If we fix $\\Delta \\tau = 3$ms nd look at $T = 30$ ms  segments of the spike train, there are $2T /\\Delta \\tau \\sim 10^3$ possible words, but the distribution is biased, and the entropy is only $S(T, \\Delta \\tau)\\sim$ 5 bits$ <\\log_2(10^3)\\sim 10$ bits. This relatively low entropy  means that we can still sample the distributions of words even out to $T \\sim 50−60$ ms,  which is interesting, because the fly can actually generate a flight correction in response  to visual motion inputs within $\\sim 30$ ms. "
   ]
  },
  {
   "cell_type": "markdown",
   "id": "a3247d1f-f00a-4c8d-b903-fc070a49440a",
   "metadata": {},
   "source": [
    "![](6-5.jpg)"
   ]
  },
  {
   "cell_type": "markdown",
   "id": "598d93b8-5e23-44bb-8c2c-85c0b5cfe61c",
   "metadata": {},
   "source": [
    "\n",
    "The figure below plots\n",
    "\n",
    "$$ I(\\text{Words;Sensory inputs})= S(\\text{Words})-\\langle S(\\text{Words| time in movie}) \\rangle_{\\text{time}} $$\n",
    "\n",
    "vs $S(\\text{Words})$ as a measure for how much information per second the spike trains encode about the the time stamp in the movie. The idea is that this gives an estimate of the information encoded about the entire sensory input (for which the time stamp is just a proxy). \n",
    "\n",
    "\n",
    "As the time resolution $\\Delta \\tau$ is varied from 800 ms down to 2 ms,  the information rate follows the entropy rate $S(\\text{Words})$, with a nearly constant 50% efficiency.  This result was influential because it suggests that neurons are making use of a significant fraction of their capacity in actually encoding sensory signals. Also, this is true even at millisecond time resolution. The  idea that the entropy of the spike train sets a limit to neural information transmission  emerged almost immediately after Shannon’s work, but it was never clear whether these limits could be approached by real systems. \n"
   ]
  },
  {
   "cell_type": "markdown",
   "id": "ae580b1e-04fe-491c-bb73-a181cf31c96b",
   "metadata": {},
   "source": [
    "![](6-7.jpg)"
   ]
  },
  {
   "cell_type": "markdown",
   "id": "3a74b255-d5a2-44e7-b81c-0ca2d875f009",
   "metadata": {},
   "source": [
    "\n",
    "## Citations\n",
    "\n",
    "```{bibliography}\n",
    "```"
   ]
  },
  {
   "cell_type": "code",
   "execution_count": null,
   "id": "051f6ef7-2a1f-4fad-96f2-78a66abc6416",
   "metadata": {},
   "outputs": [],
   "source": []
  }
 ],
 "metadata": {
  "kernelspec": {
   "display_name": "base",
   "language": "python",
   "name": "python3"
  },
  "language_info": {
   "codemirror_mode": {
    "name": "ipython",
    "version": 3
   },
   "file_extension": ".py",
   "mimetype": "text/x-python",
   "name": "python",
   "nbconvert_exporter": "python",
   "pygments_lexer": "ipython3",
   "version": "3.10.13"
  }
 },
 "nbformat": 4,
 "nbformat_minor": 5
}
